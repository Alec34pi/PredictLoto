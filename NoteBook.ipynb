{
 "cells": [
  {
   "cell_type": "markdown",
   "id": "a88b2f0a",
   "metadata": {},
   "source": [
    "# PredictLoto - prédiction de résultat du loto"
   ]
  },
  {
   "cell_type": "markdown",
   "id": "ef81b849",
   "metadata": {},
   "source": [
    "## Introduction"
   ]
  },
  {
   "cell_type": "markdown",
   "id": "8a28929e",
   "metadata": {},
   "source": [
    "L’objectif de ce projet est d’explorer les tirages passés du loto afin de construire des modèles prédictifs.  \n",
    "Même si les tirages sont conçus pour être aléatoires, ce projet servira de terrain d’expérimentation en :\n",
    "- collecte et préparation de données,\n",
    "- analyse exploratoire,\n",
    "- création et comparaison de modèles,"
   ]
  },
  {
   "cell_type": "markdown",
   "id": "8b76e81f",
   "metadata": {},
   "source": [
    "---"
   ]
  },
  {
   "cell_type": "markdown",
   "id": "d68f61de",
   "metadata": {},
   "source": [
    "### Comparatif des Jeux de Tirage (FDJ)"
   ]
  },
  {
   "cell_type": "markdown",
   "id": "71633820",
   "metadata": {},
   "source": [
    "#### Introduction"
   ]
  },
  {
   "cell_type": "markdown",
   "id": "dd9be192",
   "metadata": {},
   "source": [
    "Avant de développer un modèle prédictif sur les tirages, il est important de bien comprendre les différences entre les principaux jeux proposés par la Française des Jeux (FDJ).  \n",
    "Chaque jeu possède ses propres règles, probabilités et types de gains. "
   ]
  },
  {
   "cell_type": "markdown",
   "id": "6bcdcdc5",
   "metadata": {},
   "source": [
    "#### 1. LOTO (France)"
   ]
  },
  {
   "cell_type": "markdown",
   "id": "23292345",
   "metadata": {},
   "source": [
    "- **Règles** : choisir **5 numéros** (parmi 49) + **1 numéro chance** (parmi 10).\n",
    "- **Fréquence** : 3 tirages par semaine (lundi, mercredi, samedi).\n",
    "- **Jackpot minimum** : 2 millions € (augmente si pas de gagnant).\n",
    "- **Particularités** :\n",
    "  - Nombreuses catégories de gains (ex. 2 bons numéros).\n",
    "  - Option d’un second tirage."
   ]
  },
  {
   "cell_type": "markdown",
   "id": "0f1d8d2e",
   "metadata": {},
   "source": [
    "<hr style=\"width: 50%;\">"
   ]
  },
  {
   "cell_type": "markdown",
   "id": "4209216f",
   "metadata": {},
   "source": [
    "#### 2. EuroMillions"
   ]
  },
  {
   "cell_type": "markdown",
   "id": "09ab2131",
   "metadata": {},
   "source": [
    "- **Règles** : choisir **5 numéros** (parmi 50) + **2 étoiles** (parmi 12).\n",
    "- **Fréquence** : 2 tirages par semaine (mardi et vendredi).\n",
    "- **Jackpot minimum** : 17 millions €, plafond à 240 millions €.\n",
    "- **Particularités** :\n",
    "  - Jeu paneuropéen (plusieurs pays participants).\n",
    "  - En France, tirage complémentaire *My Million* (1 gagnant à 1 M€ garanti à chaque tirage)."
   ]
  },
  {
   "cell_type": "markdown",
   "id": "cc1c8b36",
   "metadata": {},
   "source": [
    "<hr style=\"width: 50%;\">"
   ]
  },
  {
   "cell_type": "markdown",
   "id": "7cf74d4a",
   "metadata": {},
   "source": [
    "#### 3. EuroDreams"
   ]
  },
  {
   "cell_type": "markdown",
   "id": "512cd87d",
   "metadata": {},
   "source": [
    "- **Règles** : choisir **6 numéros** (parmi 40) + **1 numéro \"Dream\"** (parmi 5).\n",
    "- **Fréquence** : 2 tirages par semaine (lundi et jeudi).\n",
    "- **Gain principal** : **20 000 €/mois pendant 30 ans**.\n",
    "- **Particularités** :\n",
    "  - Jeu orienté vers la rente à vie plutôt qu’un jackpot unique.\n",
    "  - Probabilités un peu meilleures que l’EuroMillions mais gains plus limités."
   ]
  },
  {
   "cell_type": "markdown",
   "id": "ba05f85d",
   "metadata": {},
   "source": [
    "<hr style=\"width: 50%;\">"
   ]
  },
  {
   "cell_type": "markdown",
   "id": "f278f223",
   "metadata": {},
   "source": [
    "#### 4. Keno Gagnant à Vie"
   ]
  },
  {
   "cell_type": "markdown",
   "id": "974205eb",
   "metadata": {},
   "source": [
    "- **Règles** : choisir jusqu’à **10 numéros** (parmi 70), puis 20 numéros sont tirés.\n",
    "- **Fréquence** : 2 tirages par jour (midi et soir).\n",
    "- **Gain principal** : jusqu’à **100 000 €/an à vie** ou **2 millions € cash** (selon option).\n",
    "- **Particularités** :\n",
    "  - Flexibilité du jeu : tu choisis combien de numéros jouer et ta mise.\n",
    "  - Résultats rapides (deux fois par jour)."
   ]
  },
  {
   "cell_type": "markdown",
   "id": "c4058790",
   "metadata": {},
   "source": [
    "<hr style=\"width: 50%;\">"
   ]
  },
  {
   "cell_type": "markdown",
   "id": "c2331da7",
   "metadata": {},
   "source": [
    "#### 5. Amigo"
   ]
  },
  {
   "cell_type": "markdown",
   "id": "1f3e590e",
   "metadata": {},
   "source": [
    "- **Règles** : choisir **7 numéros** (parmi 28).\n",
    "- **Fréquence** : tirages toutes les **5 minutes** en point de vente FDJ.\n",
    "- **Gain maximum** : 20 000 €.\n",
    "- **Particularités** :\n",
    "  - Jeu instantané, pensé pour des parties rapides.\n",
    "  - Accessible uniquement dans les points de vente FDJ (bars, tabacs, etc.)."
   ]
  },
  {
   "cell_type": "markdown",
   "id": "f3d1edf7",
   "metadata": {},
   "source": [
    "<hr style=\"width: 50%;\">"
   ]
  },
  {
   "cell_type": "markdown",
   "id": "aaae3a4a",
   "metadata": {},
   "source": [
    "#### Tableau comparatif"
   ]
  },
  {
   "cell_type": "markdown",
   "id": "645a4171",
   "metadata": {},
   "source": [
    "| Jeu           | Combinaison         | Fréquence de tirage | Gain maximum              | Particularité |\n",
    "|---------------|---------------------|---------------------|---------------------------|---------------|\n",
    "| **LOTO**      | 5/49 + 1/10        | 3x / semaine        | ≥ 2 M€                    | Numéro chance |\n",
    "| **EuroMillions** | 5/50 + 2/12     | 2x / semaine        | 17 M€ → 240 M€            | My Million FR |\n",
    "| **EuroDreams** | 6/40 + 1/5        | 2x / semaine        | 20k€/mois pendant 30 ans  | Rente à vie   |\n",
    "| **Keno**      | jusqu’à 10/70      | 2x / jour           | 100k€/an à vie ou 2 M€    | Jeu flexible  |\n",
    "| **Amigo**     | 7/28               | toutes les 5 min    | 20 000 €                  | Ultra rapide  |"
   ]
  },
  {
   "cell_type": "markdown",
   "id": "e6cfee33",
   "metadata": {},
   "source": [
    "Pour la suite de ce projet, nous avons choisi de travailler sur **le LOTO**, car il représente le meilleur compromis entre complexité raisonnable, disponibilité des données et potentiel de gains significatifs."
   ]
  },
  {
   "cell_type": "markdown",
   "id": "6e95d6d2",
   "metadata": {},
   "source": [
    "---"
   ]
  },
  {
   "cell_type": "markdown",
   "id": "47a066aa",
   "metadata": {},
   "source": [
    "## Sommaire"
   ]
  },
  {
   "cell_type": "markdown",
   "id": "3de37c91",
   "metadata": {},
   "source": [
    "1. [Récupération des données](#1-récupération-des-données)"
   ]
  },
  {
   "cell_type": "markdown",
   "id": "e5301d9d",
   "metadata": {},
   "source": [
    "2. [Préparation & Analyse](#2-préparation--analyse)"
   ]
  },
  {
   "cell_type": "markdown",
   "id": "4bdbf89d",
   "metadata": {},
   "source": [
    "3. [Modélisation](#3-modélisation)"
   ]
  },
  {
   "cell_type": "markdown",
   "id": "620913ce",
   "metadata": {},
   "source": [
    "4. [Évaluation](#4-évaluation)"
   ]
  },
  {
   "cell_type": "markdown",
   "id": "73b55e20",
   "metadata": {},
   "source": [
    "5. [Utilisation](#5-utilisation)"
   ]
  },
  {
   "cell_type": "markdown",
   "id": "4bd3f49f",
   "metadata": {},
   "source": [
    "6. [Conclusion](#6-conclusion)"
   ]
  },
  {
   "cell_type": "markdown",
   "id": "4de69a4d",
   "metadata": {},
   "source": [
    "---"
   ]
  },
  {
   "cell_type": "markdown",
   "id": "a0ebbbe1",
   "metadata": {},
   "source": [
    "## 1. Récupération des données"
   ]
  },
  {
   "cell_type": "markdown",
   "id": "acbb7c21",
   "metadata": {},
   "source": [
    "### Source des données LOTO 2019 → Aujourd'hui"
   ]
  },
  {
   "cell_type": "markdown",
   "id": "e026b8e8",
   "metadata": {},
   "source": [
    "#### Présentation du site"
   ]
  },
  {
   "cell_type": "markdown",
   "id": "a03f111f",
   "metadata": {},
   "source": [
    "Nous utilisons le dataset disponible sur **OpenDataSoft**, qui répertorie tous les résultats du **LOTO français** depuis 2019 jusqu'à aujourd'hui, avec des mises à jour régulières après chaque tirage."
   ]
  },
  {
   "cell_type": "markdown",
   "id": "d5f13ab5",
   "metadata": {},
   "source": [
    "- **URL du dataset** : [Resultats LOTO 2019 à aujourd'hui](https://data.opendatasoft.com/explore/dataset/resultats-loto-2019-a-aujourd-hui%40agrall/information/?sort=date_de_tirage)\n",
    "- **Avantages** :\n",
    "  - Historique complet des tirages depuis 2019 (~936 tirages disponibles à raison de 3 tirages/semaine).\n",
    "  - Données mises à jour automatiquement après chaque tirage officiel.\n",
    "  - Format structuré facile à exploiter pour Python (CSV / JSON / API)."
   ]
  },
  {
   "cell_type": "markdown",
   "id": "a6ca1052",
   "metadata": {},
   "source": [
    "<hr style=\"width: 50%;\">"
   ]
  },
  {
   "cell_type": "markdown",
   "id": "99e35db5",
   "metadata": {},
   "source": [
    "#### Structure des données"
   ]
  },
  {
   "cell_type": "markdown",
   "id": "1dedefc5",
   "metadata": {},
   "source": [
    "Chaque ligne du dataset correspond à **un tirage du LOTO** et contient les colonnes suivantes :"
   ]
  },
  {
   "cell_type": "markdown",
   "id": "4ee8f7c2",
   "metadata": {},
   "source": [
    "| Colonne               | Description |\n",
    "|-----------------------|------------|\n",
    "| `annee_numero_de_tirage` | Identifiant unique du tirage, combinant l'année et le numéro séquentiel du tirage dans l'année. |\n",
    "| `date_de_tirage`      | Date du tirage (format YYYY-MM-DD). |\n",
    "| `boule_1`             | Premier numéro tiré (1 → 49). |\n",
    "| `boule_2`             | Deuxième numéro tiré (1 → 49). |\n",
    "| `boule_3`             | Troisième numéro tiré (1 → 49). |\n",
    "| `boule_4`             | Quatrième numéro tiré (1 → 49). |\n",
    "| `boule_5`             | Cinquième numéro tiré (1 → 49). |\n",
    "| `numero_chance`       | Numéro chance (1 → 10). |"
   ]
  },
  {
   "cell_type": "markdown",
   "id": "4a613699",
   "metadata": {},
   "source": [
    "<hr style=\"width: 50%;\">"
   ]
  },
  {
   "cell_type": "markdown",
   "id": "b463e8fd",
   "metadata": {},
   "source": [
    "#### Remarques importantes :"
   ]
  },
  {
   "cell_type": "markdown",
   "id": "d96c34d9",
   "metadata": {},
   "source": [
    "1. Les **boules 1 à 5** sont les numéros principaux du tirage.\n",
    "2. Le **numéro chance** est tiré séparément et est nécessaire pour le jackpot maximal.\n",
    "3. Chaque tirage est **daté précisément**, ce qui permet de créer des features temporelles pour la modélisation.\n",
    "4. Le dataset est **prêt pour un traitement Python / Pandas**, ce qui facilitera le nettoyage, l’analyse et la création de modèles prédictifs.\n",
    "\n",
    "***Pour des choix d'efficacité nous choisissons de ne pas traiter le numéro gagnant.***"
   ]
  },
  {
   "cell_type": "markdown",
   "id": "b93affd3",
   "metadata": {},
   "source": [
    "---"
   ]
  },
  {
   "cell_type": "markdown",
   "id": "5cc626f6",
   "metadata": {},
   "source": [
    "## 2. Préparation & Analyse"
   ]
  },
  {
   "cell_type": "markdown",
   "id": "718375f7",
   "metadata": {},
   "source": [
    "### Chargement"
   ]
  },
  {
   "cell_type": "markdown",
   "id": "50d576aa",
   "metadata": {},
   "source": [
    "Nous allons maintenant charger le dataset des résultats du LOTO (2019 → aujourd'hui) dans un **DataFrame Pandas**."
   ]
  },
  {
   "cell_type": "markdown",
   "id": "4117d55b",
   "metadata": {},
   "source": [
    "**Chargement du fichier CSV LOTO avec Pandas**"
   ]
  },
  {
   "cell_type": "code",
   "execution_count": 2,
   "id": "c4690425",
   "metadata": {},
   "outputs": [
    {
     "data": {
      "text/html": [
       "<div>\n",
       "<style scoped>\n",
       "    .dataframe tbody tr th:only-of-type {\n",
       "        vertical-align: middle;\n",
       "    }\n",
       "\n",
       "    .dataframe tbody tr th {\n",
       "        vertical-align: top;\n",
       "    }\n",
       "\n",
       "    .dataframe thead th {\n",
       "        text-align: right;\n",
       "    }\n",
       "</style>\n",
       "<table border=\"1\" class=\"dataframe\">\n",
       "  <thead>\n",
       "    <tr style=\"text-align: right;\">\n",
       "      <th></th>\n",
       "      <th>annee_numero_de_tirage</th>\n",
       "      <th>date_de_tirage</th>\n",
       "      <th>boule_1</th>\n",
       "      <th>boule_2</th>\n",
       "      <th>boule_3</th>\n",
       "      <th>boule_4</th>\n",
       "      <th>boule_5</th>\n",
       "      <th>numero_chance</th>\n",
       "    </tr>\n",
       "  </thead>\n",
       "  <tbody>\n",
       "    <tr>\n",
       "      <th>0</th>\n",
       "      <td>25100</td>\n",
       "      <td>2025-08-20</td>\n",
       "      <td>2</td>\n",
       "      <td>27</td>\n",
       "      <td>36</td>\n",
       "      <td>40</td>\n",
       "      <td>1</td>\n",
       "      <td>7</td>\n",
       "    </tr>\n",
       "    <tr>\n",
       "      <th>1</th>\n",
       "      <td>25099</td>\n",
       "      <td>2025-08-18</td>\n",
       "      <td>8</td>\n",
       "      <td>27</td>\n",
       "      <td>21</td>\n",
       "      <td>2</td>\n",
       "      <td>26</td>\n",
       "      <td>6</td>\n",
       "    </tr>\n",
       "    <tr>\n",
       "      <th>2</th>\n",
       "      <td>25098</td>\n",
       "      <td>2025-08-16</td>\n",
       "      <td>31</td>\n",
       "      <td>5</td>\n",
       "      <td>18</td>\n",
       "      <td>45</td>\n",
       "      <td>4</td>\n",
       "      <td>7</td>\n",
       "    </tr>\n",
       "    <tr>\n",
       "      <th>3</th>\n",
       "      <td>25097</td>\n",
       "      <td>2025-08-13</td>\n",
       "      <td>47</td>\n",
       "      <td>9</td>\n",
       "      <td>31</td>\n",
       "      <td>36</td>\n",
       "      <td>42</td>\n",
       "      <td>1</td>\n",
       "    </tr>\n",
       "    <tr>\n",
       "      <th>4</th>\n",
       "      <td>25096</td>\n",
       "      <td>2025-08-11</td>\n",
       "      <td>40</td>\n",
       "      <td>30</td>\n",
       "      <td>44</td>\n",
       "      <td>1</td>\n",
       "      <td>10</td>\n",
       "      <td>2</td>\n",
       "    </tr>\n",
       "  </tbody>\n",
       "</table>\n",
       "</div>"
      ],
      "text/plain": [
       "   annee_numero_de_tirage date_de_tirage  boule_1  boule_2  boule_3  boule_4  \\\n",
       "0                   25100     2025-08-20        2       27       36       40   \n",
       "1                   25099     2025-08-18        8       27       21        2   \n",
       "2                   25098     2025-08-16       31        5       18       45   \n",
       "3                   25097     2025-08-13       47        9       31       36   \n",
       "4                   25096     2025-08-11       40       30       44        1   \n",
       "\n",
       "   boule_5  numero_chance  \n",
       "0        1              7  \n",
       "1       26              6  \n",
       "2        4              7  \n",
       "3       42              1  \n",
       "4       10              2  "
      ]
     },
     "execution_count": 2,
     "metadata": {},
     "output_type": "execute_result"
    }
   ],
   "source": [
    "import pandas as pd\n",
    "\n",
    "csv_path = \"resultDataLoto.csv\"\n",
    "\n",
    "df = pd.read_csv(csv_path, sep=';', parse_dates=['date_de_tirage'])\n",
    "\n",
    "df.head()\n"
   ]
  },
  {
   "cell_type": "markdown",
   "id": "4402e550",
   "metadata": {},
   "source": [
    "### vérification des données LOTO"
   ]
  },
  {
   "cell_type": "markdown",
   "id": "6a5e7c55",
   "metadata": {},
   "source": [
    "Nous vérifions maintenant :  \n",
    "1. L'intégrité des données (valeurs manquantes).  \n",
    "2. Le format et le type de chaque colonne.  \n",
    "3. Le nombre total de tirages disponibles pour analyse."
   ]
  },
  {
   "cell_type": "markdown",
   "id": "de94068d",
   "metadata": {},
   "source": [
    "**Vérification de l'intégrité des données**"
   ]
  },
  {
   "cell_type": "code",
   "execution_count": 21,
   "id": "b1e67d57",
   "metadata": {},
   "outputs": [
    {
     "data": {
      "text/html": [
       "<div>\n",
       "<style scoped>\n",
       "    .dataframe tbody tr th:only-of-type {\n",
       "        vertical-align: middle;\n",
       "    }\n",
       "\n",
       "    .dataframe tbody tr th {\n",
       "        vertical-align: top;\n",
       "    }\n",
       "\n",
       "    .dataframe thead th {\n",
       "        text-align: right;\n",
       "    }\n",
       "</style>\n",
       "<table border=\"1\" class=\"dataframe\">\n",
       "  <thead>\n",
       "    <tr style=\"text-align: right;\">\n",
       "      <th></th>\n",
       "      <th>Valeurs manquantes</th>\n",
       "    </tr>\n",
       "  </thead>\n",
       "  <tbody>\n",
       "    <tr>\n",
       "      <th>annee_numero_de_tirage</th>\n",
       "      <td>0</td>\n",
       "    </tr>\n",
       "    <tr>\n",
       "      <th>date_de_tirage</th>\n",
       "      <td>0</td>\n",
       "    </tr>\n",
       "    <tr>\n",
       "      <th>boule_1</th>\n",
       "      <td>0</td>\n",
       "    </tr>\n",
       "    <tr>\n",
       "      <th>boule_2</th>\n",
       "      <td>0</td>\n",
       "    </tr>\n",
       "    <tr>\n",
       "      <th>boule_3</th>\n",
       "      <td>0</td>\n",
       "    </tr>\n",
       "    <tr>\n",
       "      <th>boule_4</th>\n",
       "      <td>0</td>\n",
       "    </tr>\n",
       "    <tr>\n",
       "      <th>boule_5</th>\n",
       "      <td>0</td>\n",
       "    </tr>\n",
       "    <tr>\n",
       "      <th>numero_chance</th>\n",
       "      <td>0</td>\n",
       "    </tr>\n",
       "  </tbody>\n",
       "</table>\n",
       "</div>"
      ],
      "text/plain": [
       "                        Valeurs manquantes\n",
       "annee_numero_de_tirage                   0\n",
       "date_de_tirage                           0\n",
       "boule_1                                  0\n",
       "boule_2                                  0\n",
       "boule_3                                  0\n",
       "boule_4                                  0\n",
       "boule_5                                  0\n",
       "numero_chance                            0"
      ]
     },
     "execution_count": 21,
     "metadata": {},
     "output_type": "execute_result"
    }
   ],
   "source": [
    "integrity_table = pd.DataFrame({\n",
    "    \"Valeurs manquantes\": df.isnull().sum()\n",
    "})\n",
    "\n",
    "integrity_table"
   ]
  },
  {
   "cell_type": "markdown",
   "id": "acc78f32",
   "metadata": {},
   "source": [
    "**Vérification du type de chaque colonne**"
   ]
  },
  {
   "cell_type": "code",
   "execution_count": 22,
   "id": "50ed5261",
   "metadata": {},
   "outputs": [
    {
     "data": {
      "text/html": [
       "<div>\n",
       "<style scoped>\n",
       "    .dataframe tbody tr th:only-of-type {\n",
       "        vertical-align: middle;\n",
       "    }\n",
       "\n",
       "    .dataframe tbody tr th {\n",
       "        vertical-align: top;\n",
       "    }\n",
       "\n",
       "    .dataframe thead th {\n",
       "        text-align: right;\n",
       "    }\n",
       "</style>\n",
       "<table border=\"1\" class=\"dataframe\">\n",
       "  <thead>\n",
       "    <tr style=\"text-align: right;\">\n",
       "      <th></th>\n",
       "      <th>Type de colonne</th>\n",
       "    </tr>\n",
       "  </thead>\n",
       "  <tbody>\n",
       "    <tr>\n",
       "      <th>annee_numero_de_tirage</th>\n",
       "      <td>int64</td>\n",
       "    </tr>\n",
       "    <tr>\n",
       "      <th>date_de_tirage</th>\n",
       "      <td>datetime64[ns]</td>\n",
       "    </tr>\n",
       "    <tr>\n",
       "      <th>boule_1</th>\n",
       "      <td>int64</td>\n",
       "    </tr>\n",
       "    <tr>\n",
       "      <th>boule_2</th>\n",
       "      <td>int64</td>\n",
       "    </tr>\n",
       "    <tr>\n",
       "      <th>boule_3</th>\n",
       "      <td>int64</td>\n",
       "    </tr>\n",
       "    <tr>\n",
       "      <th>boule_4</th>\n",
       "      <td>int64</td>\n",
       "    </tr>\n",
       "    <tr>\n",
       "      <th>boule_5</th>\n",
       "      <td>int64</td>\n",
       "    </tr>\n",
       "    <tr>\n",
       "      <th>numero_chance</th>\n",
       "      <td>int64</td>\n",
       "    </tr>\n",
       "  </tbody>\n",
       "</table>\n",
       "</div>"
      ],
      "text/plain": [
       "                       Type de colonne\n",
       "annee_numero_de_tirage           int64\n",
       "date_de_tirage          datetime64[ns]\n",
       "boule_1                          int64\n",
       "boule_2                          int64\n",
       "boule_3                          int64\n",
       "boule_4                          int64\n",
       "boule_5                          int64\n",
       "numero_chance                    int64"
      ]
     },
     "execution_count": 22,
     "metadata": {},
     "output_type": "execute_result"
    }
   ],
   "source": [
    "integrity_table = pd.DataFrame({\n",
    "    \"Type de colonne\": df.dtypes,\n",
    "})\n",
    "integrity_table\n"
   ]
  },
  {
   "cell_type": "markdown",
   "id": "83bd9c08",
   "metadata": {},
   "source": [
    "**Nombre de tirage total**"
   ]
  },
  {
   "cell_type": "code",
   "execution_count": 23,
   "id": "a797b268",
   "metadata": {},
   "outputs": [
    {
     "data": {
      "text/html": [
       "<div>\n",
       "<style scoped>\n",
       "    .dataframe tbody tr th:only-of-type {\n",
       "        vertical-align: middle;\n",
       "    }\n",
       "\n",
       "    .dataframe tbody tr th {\n",
       "        vertical-align: top;\n",
       "    }\n",
       "\n",
       "    .dataframe thead th {\n",
       "        text-align: right;\n",
       "    }\n",
       "</style>\n",
       "<table border=\"1\" class=\"dataframe\">\n",
       "  <thead>\n",
       "    <tr style=\"text-align: right;\">\n",
       "      <th></th>\n",
       "      <th>Nombre total de tirages</th>\n",
       "    </tr>\n",
       "  </thead>\n",
       "  <tbody>\n",
       "    <tr>\n",
       "      <th>0</th>\n",
       "      <td>2641</td>\n",
       "    </tr>\n",
       "  </tbody>\n",
       "</table>\n",
       "</div>"
      ],
      "text/plain": [
       "   Nombre total de tirages\n",
       "0                     2641"
      ]
     },
     "execution_count": 23,
     "metadata": {},
     "output_type": "execute_result"
    }
   ],
   "source": [
    "total_tirages = pd.DataFrame({\n",
    "    \"Nombre total de tirages\": [len(df)]\n",
    "})\n",
    "\n",
    "total_tirages\n"
   ]
  },
  {
   "cell_type": "markdown",
   "id": "146caa7b",
   "metadata": {},
   "source": [
    "**Suppression des colonnes non-nécessaire**"
   ]
  },
  {
   "cell_type": "code",
   "execution_count": 24,
   "id": "cc0bd2b5",
   "metadata": {},
   "outputs": [
    {
     "data": {
      "text/html": [
       "<div>\n",
       "<style scoped>\n",
       "    .dataframe tbody tr th:only-of-type {\n",
       "        vertical-align: middle;\n",
       "    }\n",
       "\n",
       "    .dataframe tbody tr th {\n",
       "        vertical-align: top;\n",
       "    }\n",
       "\n",
       "    .dataframe thead th {\n",
       "        text-align: right;\n",
       "    }\n",
       "</style>\n",
       "<table border=\"1\" class=\"dataframe\">\n",
       "  <thead>\n",
       "    <tr style=\"text-align: right;\">\n",
       "      <th></th>\n",
       "      <th>boule_1</th>\n",
       "      <th>boule_2</th>\n",
       "      <th>boule_3</th>\n",
       "      <th>boule_4</th>\n",
       "      <th>boule_5</th>\n",
       "    </tr>\n",
       "  </thead>\n",
       "  <tbody>\n",
       "    <tr>\n",
       "      <th>0</th>\n",
       "      <td>2</td>\n",
       "      <td>27</td>\n",
       "      <td>36</td>\n",
       "      <td>40</td>\n",
       "      <td>1</td>\n",
       "    </tr>\n",
       "    <tr>\n",
       "      <th>1</th>\n",
       "      <td>8</td>\n",
       "      <td>27</td>\n",
       "      <td>21</td>\n",
       "      <td>2</td>\n",
       "      <td>26</td>\n",
       "    </tr>\n",
       "    <tr>\n",
       "      <th>2</th>\n",
       "      <td>31</td>\n",
       "      <td>5</td>\n",
       "      <td>18</td>\n",
       "      <td>45</td>\n",
       "      <td>4</td>\n",
       "    </tr>\n",
       "    <tr>\n",
       "      <th>3</th>\n",
       "      <td>47</td>\n",
       "      <td>9</td>\n",
       "      <td>31</td>\n",
       "      <td>36</td>\n",
       "      <td>42</td>\n",
       "    </tr>\n",
       "    <tr>\n",
       "      <th>4</th>\n",
       "      <td>40</td>\n",
       "      <td>30</td>\n",
       "      <td>44</td>\n",
       "      <td>1</td>\n",
       "      <td>10</td>\n",
       "    </tr>\n",
       "  </tbody>\n",
       "</table>\n",
       "</div>"
      ],
      "text/plain": [
       "   boule_1  boule_2  boule_3  boule_4  boule_5\n",
       "0        2       27       36       40        1\n",
       "1        8       27       21        2       26\n",
       "2       31        5       18       45        4\n",
       "3       47        9       31       36       42\n",
       "4       40       30       44        1       10"
      ]
     },
     "execution_count": 24,
     "metadata": {},
     "output_type": "execute_result"
    }
   ],
   "source": [
    "df = df.drop(columns=[\"annee_numero_de_tirage\", \"date_de_tirage\", \"numero_chance\"])\n",
    "df.head()"
   ]
  },
  {
   "cell_type": "markdown",
   "id": "ffaec68c",
   "metadata": {},
   "source": [
    "### Analyse exploratoire des résultats LOTO"
   ]
  },
  {
   "cell_type": "markdown",
   "id": "2c778964",
   "metadata": {},
   "source": [
    "Nous allons effectuer une **analyse exploratoire** pour mieux comprendre les tirages :\n",
    "1. **Analyse unidimensionnelle** : fréquence de sortie de chaque boule principale et du numéro chance.\n",
    "2. **Analyse bidimensionnelle** : relations entre les numéros, par exemple la co-occurrence des numéros dans un même tirage."
   ]
  },
  {
   "cell_type": "markdown",
   "id": "39d97743",
   "metadata": {},
   "source": [
    "#### Analyse unidimensionnelle"
   ]
  },
  {
   "cell_type": "code",
   "execution_count": 25,
   "id": "916a10c2",
   "metadata": {},
   "outputs": [
    {
     "data": {
      "image/png": "[encoded data removed]",
      "text/plain": [
       "<Figure size 1200x500 with 1 Axes>"
      ]
     },
     "metadata": {},
     "output_type": "display_data"
    }
   ],
   "source": [
    "import matplotlib.pyplot as plt\n",
    "\n",
    "boules = pd.concat([df['boule_1'], df['boule_2'], df['boule_3'], df['boule_4'], df['boule_5']])\n",
    "\n",
    "freq_boules = boules.value_counts().sort_index()\n",
    "\n",
    "plt.figure(figsize=(12,5))\n",
    "\n",
    "plt.subplot(1,2,1)\n",
    "freq_boules.plot(kind='bar', color='skyblue')\n",
    "plt.title(\"Fréquence des numéros principaux\")\n",
    "plt.xlabel(\"Numéro\")\n",
    "plt.ylabel(\"Nombre de sorties\")\n",
    "\n",
    "plt.tight_layout()\n",
    "plt.show()\n"
   ]
  },
  {
   "cell_type": "markdown",
   "id": "8830cc97",
   "metadata": {},
   "source": [
    "Explications unidimensionnelles\n",
    "- Permet de visualiser la répartition de chaque numéro dans les tirages.\n",
    "- Les numéros principaux et le numéro chance sont analysés séparément.\n",
    "- Utile pour détecter si certains numéros sortent plus fréquemment, même si le loto est aléatoire."
   ]
  },
  {
   "cell_type": "markdown",
   "id": "146fddd2",
   "metadata": {},
   "source": [
    "#### Analyse bidimensionnelle (co-occurrence)"
   ]
  },
  {
   "cell_type": "code",
   "execution_count": 26,
   "id": "1c072ded",
   "metadata": {},
   "outputs": [
    {
     "data": {
      "image/png": "[encoded data removed]",
      "text/plain": [
       "<Figure size 1000x800 with 2 Axes>"
      ]
     },
     "metadata": {},
     "output_type": "display_data"
    }
   ],
   "source": [
    "import pandas as pd\n",
    "import matplotlib.pyplot as plt\n",
    "import seaborn as sns\n",
    "\n",
    "# Exemple : df avec les tirages (remplace par ton propre DataFrame)\n",
    "# df = pd.read_csv(\"tes_tirages.csv\")\n",
    "\n",
    "# Colonnes contenant les numéros tirés\n",
    "boules_cols = ['boule_1', 'boule_2', 'boule_3', 'boule_4', 'boule_5']\n",
    "\n",
    "# Initialisation de la matrice de co-occurrence\n",
    "co_occurrence = pd.DataFrame(0, index=range(1, 50), columns=range(1, 50))\n",
    "\n",
    "# Remplissage de la matrice\n",
    "for row in df[boules_cols].values:\n",
    "    for i in range(len(row)):\n",
    "        for j in range(i + 1, len(row)):\n",
    "            co_occurrence.loc[row[i], row[j]] += 1\n",
    "            co_occurrence.loc[row[j], row[i]] += 1\n",
    "\n",
    "# Affichage de la heatmap avec dégradé rouge → bleu\n",
    "plt.figure(figsize=(10, 8))\n",
    "sns.heatmap(\n",
    "    co_occurrence,\n",
    "    cmap=\"RdBu\",   # dégradé rouge → bleu\n",
    "    linewidths=0.1,\n",
    "    linecolor=\"lightgray\",\n",
    "    cbar_kws={'label': 'Fréquence de co-occurrence'}\n",
    ")\n",
    "plt.title(\"Matrice de co-occurrence des numéros principaux\", fontsize=14)\n",
    "plt.xlabel(\"Numéro\", fontsize=12)\n",
    "plt.ylabel(\"Numéro\", fontsize=12)\n",
    "plt.tight_layout()\n",
    "plt.show()\n"
   ]
  },
  {
   "cell_type": "markdown",
   "id": "6a4432f8",
   "metadata": {},
   "source": [
    "### divisions de la data en 95/5 (entrainement et test)"
   ]
  },
  {
   "cell_type": "code",
   "execution_count": 27,
   "id": "da4864b6",
   "metadata": {},
   "outputs": [
    {
     "name": "stdout",
     "output_type": "stream",
     "text": [
      "Nombre de tirages pour l'entraînement : 2508\n",
      "Nombre de tirages pour le test : 133\n"
     ]
    }
   ],
   "source": [
    "from sklearn.model_selection import train_test_split\n",
    "\n",
    "boules_cols = ['boule_1', 'boule_2', 'boule_3', 'boule_4', 'boule_5']\n",
    "\n",
    "df_train, df_test = train_test_split(df[boules_cols], test_size=0.05, shuffle=False)\n",
    "\n",
    "print(f\"Nombre de tirages pour l'entraînement : {len(df_train)}\")\n",
    "print(f\"Nombre de tirages pour le test : {len(df_test)}\")\n"
   ]
  },
  {
   "cell_type": "markdown",
   "id": "f2b8aca4",
   "metadata": {},
   "source": [
    "---"
   ]
  },
  {
   "cell_type": "markdown",
   "id": "00c2de6d",
   "metadata": {},
   "source": [
    "## 3. Modélisation"
   ]
  },
  {
   "cell_type": "markdown",
   "id": "5fe11366",
   "metadata": {},
   "source": [
    "### Choix des modèles prédictifs"
   ]
  },
  {
   "cell_type": "markdown",
   "id": "5fbc2ba4",
   "metadata": {},
   "source": [
    "Le dataset LOTO couvre environ **936 tirages** (2019 → 2025), ce qui reste **relativement faible pour l'entraînement de modèles complexes**.  \n",
    "En conséquence, nous privilégions des modèles simples ou peu data-hungry qui peuvent exploiter efficacement ce volume limité de données."
   ]
  },
  {
   "cell_type": "markdown",
   "id": "48af9f2e",
   "metadata": {},
   "source": [
    "#### Modèles statistiques simples"
   ]
  },
  {
   "cell_type": "markdown",
   "id": "905bd1ef",
   "metadata": {},
   "source": [
    "- **Fréquences / probabilités marginales** :  \n",
    "  Chaque numéro est analysé individuellement selon sa fréquence de sortie historique.  \n",
    "  - Avantage : très simple, baseline réaliste.  \n",
    "  - Limite : ne capture aucune dépendance entre numéros."
   ]
  },
  {
   "cell_type": "code",
   "execution_count": 28,
   "id": "2ec09530",
   "metadata": {},
   "outputs": [
    {
     "name": "stdout",
     "output_type": "stream",
     "text": [
      "Modèle Fréquences / Probabilités marginales créé\n"
     ]
    }
   ],
   "source": [
    "import numpy as np\n",
    "\n",
    "boules_train = pd.concat([\n",
    "    df_train['boule_1'], \n",
    "    df_train['boule_2'], \n",
    "    df_train['boule_3'], \n",
    "    df_train['boule_4'], \n",
    "    df_train['boule_5']\n",
    "])\n",
    "\n",
    "freq_boules_train = boules_train.value_counts().sort_index()\n",
    "proba_boules_train = freq_boules_train / freq_boules_train.sum()\n",
    "\n",
    "print(\"Modèle Fréquences / Probabilités marginales créé\")\n"
   ]
  },
  {
   "cell_type": "markdown",
   "id": "e542c07a",
   "metadata": {},
   "source": [
    "- **Modèles de Markov** :  \n",
    "  Les probabilités de sortie d’un numéro sont conditionnées par le tirage précédent.  \n",
    "  - Avantage : prend en compte la séquence temporelle.  \n",
    "  - Limite : nécessite peu de données mais la structure dépendance est faible dans le loto."
   ]
  },
  {
   "cell_type": "code",
   "execution_count": 29,
   "id": "f9033142",
   "metadata": {},
   "outputs": [
    {
     "name": "stdout",
     "output_type": "stream",
     "text": [
      "Modèle Markov (matrice de transition) créé\n"
     ]
    }
   ],
   "source": [
    "boules_seq = []\n",
    "for _, row in df_train.iterrows():\n",
    "    boules_seq.extend([row['boule_1'], row['boule_2'], row['boule_3'], row['boule_4'], row['boule_5']])\n",
    "\n",
    "n_max = max(boules_seq)\n",
    "transition_matrix = pd.DataFrame(0, index=range(1, n_max+1), columns=range(1, n_max+1))\n",
    "\n",
    "for i in range(len(boules_seq)-1):\n",
    "    current_num = boules_seq[i]\n",
    "    next_num = boules_seq[i+1]\n",
    "    transition_matrix.loc[current_num, next_num] += 1\n",
    "\n",
    "transition_matrix = transition_matrix.div(transition_matrix.sum(axis=1), axis=0).fillna(0)\n",
    "\n",
    "print(\"Modèle Markov (matrice de transition) créé\")\n"
   ]
  },
  {
   "cell_type": "markdown",
   "id": "23e8b865",
   "metadata": {},
   "source": [
    "#### Modèles d’apprentissage supervisé classiques"
   ]
  },
  {
   "cell_type": "markdown",
   "id": "525c9a09",
   "metadata": {},
   "source": [
    "- **Régression logistique** :  \n",
    "  Prévoit la probabilité que chaque numéro sorte, en traitant chaque numéro comme une classe ou un label binaire.  "
   ]
  },
  {
   "cell_type": "code",
   "execution_count": 30,
   "id": "35053d94",
   "metadata": {},
   "outputs": [
    {
     "name": "stderr",
     "output_type": "stream",
     "text": [
      "c:\\Users\\alecp\\AppData\\Local\\Programs\\Python\\Python312\\Lib\\site-packages\\sklearn\\linear_model\\_logistic.py:1272: FutureWarning: 'multi_class' was deprecated in version 1.5 and will be removed in 1.7. From then on, it will always use 'multinomial'. Leave it to its default value to avoid this warning.\n",
      "  warnings.warn(\n"
     ]
    },
    {
     "name": "stdout",
     "output_type": "stream",
     "text": [
      "Modèle de régression logistique (boules principales) entraîné\n"
     ]
    }
   ],
   "source": [
    "from sklearn.linear_model import LogisticRegression\n",
    "import numpy as np\n",
    "\n",
    "X_boules = []\n",
    "y_boules = []\n",
    "\n",
    "for idx, row in df_train.iterrows():\n",
    "    X_boules.extend([[idx]] * 5)\n",
    "    y_boules.extend([row['boule_1'], row['boule_2'], row['boule_3'], row['boule_4'], row['boule_5']])\n",
    "\n",
    "X_boules = np.array(X_boules)\n",
    "y_boules = np.array(y_boules)\n",
    "\n",
    "log_reg_boules = LogisticRegression(max_iter=1000, multi_class=\"multinomial\")\n",
    "log_reg_boules.fit(X_boules, y_boules)\n",
    "\n",
    "print(\"Modèle de régression logistique (boules principales) entraîné\")\n"
   ]
  },
  {
   "cell_type": "markdown",
   "id": "028d5f81",
   "metadata": {},
   "source": [
    "- **Random Forest / Decision Tree** :  \n",
    "  Capturent des patterns simples entre features comme fréquence, parité, écart depuis dernière sortie, etc.  "
   ]
  },
  {
   "cell_type": "code",
   "execution_count": 31,
   "id": "af355be2",
   "metadata": {},
   "outputs": [
    {
     "name": "stdout",
     "output_type": "stream",
     "text": [
      "Decision Tree (boules principales) entraîné\n",
      "Random Forest (boules principales) entraîné\n"
     ]
    }
   ],
   "source": [
    "from sklearn.tree import DecisionTreeClassifier\n",
    "from sklearn.ensemble import RandomForestClassifier\n",
    "import numpy as np\n",
    "\n",
    "X_boules = []\n",
    "y_boules = []\n",
    "\n",
    "for idx, row in df_train.iterrows():\n",
    "    X_boules.extend([[idx]] * 5)\n",
    "    y_boules.extend([row['boule_1'], row['boule_2'], row['boule_3'], row['boule_4'], row['boule_5']])\n",
    "\n",
    "X_boules = np.array(X_boules)\n",
    "y_boules = np.array(y_boules)\n",
    "\n",
    "dt_boules = DecisionTreeClassifier()\n",
    "dt_boules.fit(X_boules, y_boules)\n",
    "print(\"Decision Tree (boules principales) entraîné\")\n",
    "\n",
    "rf_boules = RandomForestClassifier(n_estimators=100)\n",
    "rf_boules.fit(X_boules, y_boules)\n",
    "print(\"Random Forest (boules principales) entraîné\")\n"
   ]
  },
  {
   "cell_type": "markdown",
   "id": "ca1be195",
   "metadata": {},
   "source": [
    "> Ces modèles restent adaptés malgré le faible volume de données et sont relativement résistants au surapprentissage si les hyperparamètres sont bien choisis."
   ]
  },
  {
   "cell_type": "markdown",
   "id": "837351f8",
   "metadata": {},
   "source": [
    "#### Modèles probabilistes"
   ]
  },
  {
   "cell_type": "markdown",
   "id": "638df6e3",
   "metadata": {},
   "source": [
    "- **Naive Bayes (Bernoulli / Multinomial)** :  \n",
    "  Chaque numéro est une feature binaire (sorti / non sorti), et le modèle calcule la probabilité de chaque numéro indépendamment des autres.  "
   ]
  },
  {
   "cell_type": "code",
   "execution_count": 32,
   "id": "3edf4ee1",
   "metadata": {},
   "outputs": [
    {
     "name": "stdout",
     "output_type": "stream",
     "text": [
      "Naive Bayes (boules principales) entraîné\n"
     ]
    }
   ],
   "source": [
    "from sklearn.naive_bayes import MultinomialNB\n",
    "import numpy as np\n",
    "\n",
    "X_boules = []\n",
    "y_boules = []\n",
    "\n",
    "for idx, row in df_train.iterrows():\n",
    "    X_boules.extend([[idx]] * 5)  # index du tirage comme feature simple\n",
    "    y_boules.extend([row['boule_1'], row['boule_2'], row['boule_3'], row['boule_4'], row['boule_5']])\n",
    "\n",
    "X_boules = np.array(X_boules)\n",
    "y_boules = np.array(y_boules)\n",
    "\n",
    "nb_boules = MultinomialNB()\n",
    "nb_boules.fit(X_boules, y_boules)\n",
    "print(\"Naive Bayes (boules principales) entraîné\")\n"
   ]
  },
  {
   "cell_type": "markdown",
   "id": "007a4007",
   "metadata": {},
   "source": [
    "- **Distribution multinomiale** :  \n",
    "  Estime la probabilité de chaque combinaison de numéros basée uniquement sur les fréquences historiques.  "
   ]
  },
  {
   "cell_type": "code",
   "execution_count": 33,
   "id": "fc80f4c8",
   "metadata": {},
   "outputs": [
    {
     "name": "stdout",
     "output_type": "stream",
     "text": [
      "Modèle Distribution Multinomiale créé\n"
     ]
    }
   ],
   "source": [
    "import numpy as np\n",
    "import pandas as pd\n",
    "\n",
    "boules_train = pd.concat([\n",
    "    df_train['boule_1'],\n",
    "    df_train['boule_2'],\n",
    "    df_train['boule_3'],\n",
    "    df_train['boule_4'],\n",
    "    df_train['boule_5']\n",
    "])\n",
    "\n",
    "freq_boules_train = boules_train.value_counts().sort_index()\n",
    "proba_boules_train = freq_boules_train / freq_boules_train.sum()\n",
    "\n",
    "print(\"Modèle Distribution Multinomiale créé\")\n"
   ]
  },
  {
   "cell_type": "markdown",
   "id": "2b5e897e",
   "metadata": {},
   "source": [
    "> Ces modèles probabilistes sont particulièrement adaptés au faible volume de données et aux problèmes multi-label comme le loto."
   ]
  },
  {
   "cell_type": "markdown",
   "id": "484ce2f4",
   "metadata": {},
   "source": [
    "#### Conclusion"
   ]
  },
  {
   "cell_type": "markdown",
   "id": "e25186e5",
   "metadata": {},
   "source": [
    "Étant donné le **volume limité de tirages**, les modèles complexes de deep learning ou séquentiels (RNN/LSTM) ne sont pas appropriés ici.  \n",
    "Nous allons donc nous concentrer sur **des approches statistiques, probabilistes et des modèles classiques supervisés** qui exploitent au mieux le dataset disponible et permettent de comparer les résultats à une **baseline aléatoire réaliste**."
   ]
  },
  {
   "cell_type": "markdown",
   "id": "736e68b1",
   "metadata": {},
   "source": [
    "---"
   ]
  },
  {
   "cell_type": "markdown",
   "id": "df90fdee",
   "metadata": {},
   "source": [
    "## 4. Évaluation"
   ]
  },
  {
   "cell_type": "code",
   "execution_count": 54,
   "id": "f8ca1e81",
   "metadata": {},
   "outputs": [
    {
     "name": "stdout",
     "output_type": "stream",
     "text": [
      "Hasard: moyenne de boules correctes = 0.53\n",
      "Frequences: moyenne de boules correctes = 0.00\n",
      "Multinomial: moyenne de boules correctes = 0.00\n",
      "Markov: moyenne de boules correctes = 0.44\n",
      "LogReg: moyenne de boules correctes = 0.06\n",
      "DecisionTree: moyenne de boules correctes = 0.05\n",
      "RandomForest: moyenne de boules correctes = 0.09\n",
      "NaiveBayes: moyenne de boules correctes = 0.10\n"
     ]
    }
   ],
   "source": [
    "import numpy as np\n",
    "\n",
    "def evaluate_models(df_test, models, n_test=None, n_boules=49):\n",
    "    results = {}\n",
    "    \n",
    "    # Limiter le nombre de tirages testés\n",
    "    if n_test is not None:\n",
    "        df_test = df_test.sample(n=min(n_test, len(df_test)), random_state=42)\n",
    "\n",
    "    for name, model in models.items():\n",
    "        correct_counts = []\n",
    "        \n",
    "        for idx, row in df_test.iterrows():\n",
    "            if name in [\"Frequences\", \"Multinomial\"]:\n",
    "                # Tirage pondéré par probabilités\n",
    "                tirage_pred = np.random.choice(model['boules'].index, size=5, replace=False, p=model['boules'].values)\n",
    "            elif name == \"Markov\":\n",
    "                # Commence par une boule aléatoire\n",
    "                tirage_pred = [np.random.choice(model.index)]\n",
    "                for _ in range(4):\n",
    "                    probs = model.loc[tirage_pred[-1], :]\n",
    "                    probs /= probs.sum()\n",
    "                    tirage_pred.append(np.random.choice(probs.index, p=probs.values))\n",
    "            elif name == \"Hasard\":\n",
    "                # Tirage totalement aléatoire uniforme\n",
    "                tirage_pred = np.random.choice(range(1, n_boules+1), size=5, replace=False)\n",
    "            else:  # modèles supervisés\n",
    "                # Boules principales\n",
    "                X_pred = np.array([idx]*5).reshape(-1,1)\n",
    "                tirage_pred = model['boules'].predict(X_pred)\n",
    "            \n",
    "            # Comparaison avec vrai tirage\n",
    "            vrai_boules = set([row['boule_1'], row['boule_2'], row['boule_3'], row['boule_4'], row['boule_5']])\n",
    "            correct = len(set(tirage_pred) & vrai_boules)\n",
    "            correct_counts.append(correct)\n",
    "        \n",
    "        results[name] = {\n",
    "            \"avg_correct_boules\": np.mean(correct_counts),\n",
    "        }\n",
    "    \n",
    "    return results\n",
    "\n",
    "\n",
    "# 🔹 Préparer le dictionnaire de modèles + hasard\n",
    "models_dict = {\n",
    "    \"Hasard\": None,  # baseline aléatoire uniforme\n",
    "    \"Frequences\": {\"boules\": proba_boules_train},\n",
    "    \"Multinomial\": {\"boules\": proba_boules_train},\n",
    "    \"Markov\": transition_matrix,\n",
    "    \"LogReg\": {\"boules\": log_reg_boules},\n",
    "    \"DecisionTree\": {\"boules\": dt_boules},\n",
    "    \"RandomForest\": {\"boules\": rf_boules},\n",
    "    \"NaiveBayes\": {\"boules\": nb_boules}\n",
    "}\n",
    "\n",
    "# 🔹 Évaluation sur tout le test set\n",
    "results_all = evaluate_models(df_test, models_dict)\n",
    "\n",
    "# 🔹 Affichage\n",
    "for model, res in results_all.items():\n",
    "    print(f\"{model}: moyenne de boules correctes = {res['avg_correct_boules']:.2f}\")\n"
   ]
  },
  {
   "cell_type": "markdown",
   "id": "3da50db3",
   "metadata": {},
   "source": [
    "Nous voyons ici que le meilleur modèle est celui de Markov avec en moyenne 0.5 boules prédite pour un tirage complet (donc environ 1 boule trouver sur deux tirages)."
   ]
  },
  {
   "cell_type": "markdown",
   "id": "2d74d508",
   "metadata": {},
   "source": [
    "---"
   ]
  },
  {
   "cell_type": "markdown",
   "id": "40dfea53",
   "metadata": {},
   "source": [
    "## 6. Conclusion"
   ]
  },
  {
   "cell_type": "markdown",
   "id": "b5f1d301",
   "metadata": {},
   "source": [
    "- Les modèles probabilistes simples (Fréquences, Multinomial, Markov) sont les plus performants pour les boules principales, car ils utilisent les informations historiques des tirages.\n",
    "- Les modèles supervisés plus complexes ne sont pas efficaces dans ce contexte avec la seule feature temporelle disponible."
   ]
  },
  {
   "cell_type": "markdown",
   "id": "605c24a9",
   "metadata": {},
   "source": [
    "**Remarque** : Ces résultats confirment la nature fondamentalement aléatoire du loto, et montrent que même les modèles sophistiqués n’apportent pas d’avantage réel sans données supplémentaires (par exemple : combinaison de tirages, patterns complexes, ou features additionnelles)."
   ]
  },
  {
   "cell_type": "markdown",
   "id": "f6d9486b",
   "metadata": {},
   "source": [
    "---"
   ]
  },
  {
   "cell_type": "markdown",
   "id": "af79efec",
   "metadata": {},
   "source": [
    "*Ce projet a permis de comparer plusieurs approches pour la prédiction des tirages du LOTO, en mettant en évidence les limites liées à la nature aléatoire du jeu.*"
   ]
  },
  {
   "cell_type": "markdown",
   "id": "4fd91bda",
   "metadata": {},
   "source": [
    "---"
   ]
  },
  {
   "cell_type": "markdown",
   "id": "05c2d680",
   "metadata": {},
   "source": [
    "## On pousse au max"
   ]
  },
  {
   "cell_type": "markdown",
   "id": "5eb974aa",
   "metadata": {},
   "source": [
    "### 1ere boule :"
   ]
  },
  {
   "cell_type": "code",
   "execution_count": 68,
   "id": "b7de1df5",
   "metadata": {},
   "outputs": [
    {
     "name": "stderr",
     "output_type": "stream",
     "text": [
      "C:\\Users\\alecp\\AppData\\Local\\Temp\\ipykernel_15404\\3260148170.py:24: FutureWarning: Series.fillna with 'method' is deprecated and will raise in a future version. Use obj.ffill() or obj.bfill() instead.\n",
      "  df[f'boule_1_prev_{lag}'] = df['boule_1'].shift(lag).fillna(method='bfill')\n"
     ]
    },
    {
     "name": "stdout",
     "output_type": "stream",
     "text": [
      "=== Tranche ===\n",
      "Accuracy: 0.19281663516068054\n",
      "              precision    recall  f1-score   support\n",
      "\n",
      "           0       0.24      0.14      0.18       133\n",
      "           1       0.23      0.25      0.24       112\n",
      "           2       0.12      0.17      0.14        95\n",
      "           3       0.19      0.16      0.17        99\n",
      "           4       0.20      0.26      0.23        90\n",
      "\n",
      "    accuracy                           0.19       529\n",
      "   macro avg       0.20      0.20      0.19       529\n",
      "weighted avg       0.20      0.19      0.19       529\n",
      "\n",
      "Top 4 chiffres les plus probables : 6, 11, 42, 40\n"
     ]
    }
   ],
   "source": [
    "import pandas as pd\n",
    "import numpy as np\n",
    "from sklearn.model_selection import train_test_split\n",
    "from sklearn.ensemble import RandomForestClassifier\n",
    "from sklearn.metrics import accuracy_score, classification_report\n",
    "\n",
    "\n",
    "df['date_de_tirage'] = pd.to_datetime(df['date_de_tirage'])\n",
    "df['jour'] = df['date_de_tirage'].dt.day\n",
    "df['mois'] = df['date_de_tirage'].dt.month\n",
    "df['annee'] = df['date_de_tirage'].dt.year\n",
    "df['weekday'] = df['date_de_tirage'].dt.weekday\n",
    "\n",
    "boules_autres = ['boule_2','boule_3','boule_4','boule_5']\n",
    "df['boules_autres_sum'] = df[boules_autres].sum(axis=1)\n",
    "df['boules_autres_mean'] = df[boules_autres].mean(axis=1)\n",
    "df['boules_autres_max'] = df[boules_autres].max(axis=1)\n",
    "df['boules_autres_min'] = df[boules_autres].min(axis=1)\n",
    "\n",
    "df = df.sort_values('date_de_tirage')\n",
    "for lag in range(1,6):\n",
    "    df[f'boule_1_prev_{lag}'] = df['boule_1'].shift(lag).fillna(method='bfill')\n",
    "\n",
    "df['boule_1_prev_mean5'] = df[[f'boule_1_prev_{i}' for i in range(1,6)]].mean(axis=1)\n",
    "df['boule_1_prev_std5'] = df[[f'boule_1_prev_{i}' for i in range(1,6)]].std(axis=1)\n",
    "\n",
    "\n",
    "def tranche_boule5(n):\n",
    "    return (n-1)//10\n",
    "\n",
    "df['boule_1_tranche'] = df['boule_1'].apply(tranche_boule5)\n",
    "\n",
    "feature_cols = ['annee','mois','jour','weekday'] + \\\n",
    "               boules_autres + \\\n",
    "               ['boules_autres_sum','boules_autres_mean','boules_autres_max','boules_autres_min'] + \\\n",
    "               [f'boule_1_prev_{i}' for i in range(1,6)] + \\\n",
    "               ['boule_1_prev_mean5','boule_1_prev_std5']\n",
    "\n",
    "X = df[feature_cols]\n",
    "\n",
    "\n",
    "y_tranche = df['boule_1_tranche']\n",
    "X_train, X_test, y_train, y_test = train_test_split(X, y_tranche, test_size=0.2, random_state=42, shuffle=False)\n",
    "\n",
    "rf_tranche = RandomForestClassifier(n_estimators=400, max_depth=12, min_samples_split=5, random_state=42)\n",
    "rf_tranche.fit(X_train, y_train)\n",
    "y_pred_tranche = rf_tranche.predict(X_test)\n",
    "\n",
    "print(\"=== Tranche ===\")\n",
    "print(\"Accuracy:\", accuracy_score(y_test, y_pred_tranche))\n",
    "print(classification_report(y_test, y_pred_tranche))\n",
    "\n",
    "\n",
    "models_tranche = {}\n",
    "for t in range(5):\n",
    "    df_tranche = df[df['boule_1_tranche'] == t].copy()\n",
    "    \n",
    "    if t < 4:\n",
    "        df_tranche['boule_class'] = df_tranche['boule_1']\n",
    "    else:\n",
    "        df_tranche['boule_class'] = df_tranche['boule_1']\n",
    "\n",
    "    X_t = df_tranche[feature_cols]\n",
    "    y_t = df_tranche['boule_class']\n",
    "\n",
    "    X_train_t, X_test_t, y_train_t, y_test_t = train_test_split(X_t, y_t, test_size=0.2, random_state=42, shuffle=False)\n",
    "\n",
    "    rf_t = RandomForestClassifier(n_estimators=400, max_depth=12, min_samples_split=5, random_state=42)\n",
    "    rf_t.fit(X_train_t, y_train_t)\n",
    "    models_tranche[t] = rf_t\n",
    "\n",
    "\n",
    "def top4_chiffres_boule1(exemple):\n",
    "    # Probabilité tranche\n",
    "    proba_tranche = rf_tranche.predict_proba(exemple)[0]\n",
    "    top_tranches = np.argsort(proba_tranche)[::-1]\n",
    "    prob_dict = {}\n",
    "\n",
    "    for t in top_tranches:\n",
    "        rf_t = models_tranche[t]\n",
    "        proba_chiffres = rf_t.predict_proba(exemple)[0]\n",
    "        classes_chiffres = rf_t.classes_\n",
    "        for c, p in zip(classes_chiffres, proba_chiffres):\n",
    "            prob_dict[int(c)] = p * proba_tranche[t]\n",
    "\n",
    "    top4 = sorted(prob_dict, key=prob_dict.get, reverse=True)[:4]\n",
    "    return top4\n",
    "\n",
    "exemple = X_test.iloc[0:1]\n",
    "top4_boule1 = top4_chiffres_boule1(exemple)\n",
    "print(\"Top 4 chiffres les plus probables :\", \", \".join(str(c) for c in top4_boule1))\n"
   ]
  },
  {
   "cell_type": "markdown",
   "id": "86e685b3",
   "metadata": {},
   "source": [
    "### 2e boule :"
   ]
  },
  {
   "cell_type": "code",
   "execution_count": 62,
   "id": "2395ed03",
   "metadata": {},
   "outputs": [
    {
     "name": "stderr",
     "output_type": "stream",
     "text": [
      "C:\\Users\\alecp\\AppData\\Local\\Temp\\ipykernel_15404\\2730518313.py:27: FutureWarning: Series.fillna with 'method' is deprecated and will raise in a future version. Use obj.ffill() or obj.bfill() instead.\n",
      "  df[f'boule_2_prev_{lag}'] = df['boule_2'].shift(lag).fillna(method='bfill')\n"
     ]
    },
    {
     "name": "stdout",
     "output_type": "stream",
     "text": [
      "=== RandomForest pour Tranche boule_2 ===\n",
      "Accuracy: 0.21172022684310018\n",
      "              precision    recall  f1-score   support\n",
      "\n",
      "           0       0.22      0.14      0.17       123\n",
      "           1       0.20      0.27      0.23       111\n",
      "           2       0.24      0.44      0.31       107\n",
      "           3       0.11      0.07      0.08       101\n",
      "           4       0.26      0.13      0.17        87\n",
      "\n",
      "    accuracy                           0.21       529\n",
      "   macro avg       0.21      0.21      0.19       529\n",
      "weighted avg       0.21      0.21      0.20       529\n",
      "\n",
      "\n",
      "Top 4 chiffres les plus probables pour le premier tirage : 20, 31, 44, 30\n"
     ]
    }
   ],
   "source": [
    "import pandas as pd\n",
    "import numpy as np\n",
    "from sklearn.model_selection import train_test_split\n",
    "from sklearn.ensemble import RandomForestClassifier\n",
    "from sklearn.metrics import accuracy_score, classification_report\n",
    "\n",
    "df['date_de_tirage'] = pd.to_datetime(df['date_de_tirage'])\n",
    "df['jour'] = df['date_de_tirage'].dt.day\n",
    "df['mois'] = df['date_de_tirage'].dt.month\n",
    "df['annee'] = df['date_de_tirage'].dt.year\n",
    "df['weekday'] = df['date_de_tirage'].dt.weekday\n",
    "\n",
    "boules_autres = ['boule_1','boule_3','boule_4','boule_5','numero_chance']\n",
    "df['boules_autres_sum'] = df[boules_autres].sum(axis=1)\n",
    "df['boules_autres_mean'] = df[boules_autres].mean(axis=1)\n",
    "df['boules_autres_max'] = df[boules_autres].max(axis=1)\n",
    "df['boules_autres_min'] = df[boules_autres].min(axis=1)\n",
    "\n",
    "\n",
    "df = df.sort_values('date_de_tirage')\n",
    "for lag in range(1,6):\n",
    "    df[f'boule_2_prev_{lag}'] = df['boule_2'].shift(lag).fillna(method='bfill')\n",
    "\n",
    "df['boule_2_prev_mean5'] = df[[f'boule_2_prev_{i}' for i in range(1,6)]].mean(axis=1)\n",
    "df['boule_2_prev_std5'] = df[[f'boule_2_prev_{i}' for i in range(1,6)]].std(axis=1)\n",
    "\n",
    "\n",
    "def tranche_boule5(n):\n",
    "    return (n-1)//10  # 5 tranches\n",
    "\n",
    "df['boule_2_tranche'] = df['boule_2'].apply(tranche_boule5)\n",
    "\n",
    "\n",
    "feature_cols = ['annee','mois','jour','weekday'] + \\\n",
    "               boules_autres + \\\n",
    "               ['boules_autres_sum','boules_autres_mean','boules_autres_max','boules_autres_min'] + \\\n",
    "               [f'boule_2_prev_{i}' for i in range(1,6)] + \\\n",
    "               ['boule_2_prev_mean5','boule_2_prev_std5']\n",
    "\n",
    "X = df[feature_cols]\n",
    "y = df['boule_2_tranche']\n",
    "\n",
    "\n",
    "X_train, X_test, y_train, y_test = train_test_split(X, y, test_size=0.2, random_state=42, shuffle=False)\n",
    "\n",
    "\n",
    "rf_tranche2 = RandomForestClassifier(n_estimators=400, max_depth=12, min_samples_split=5, random_state=42)\n",
    "rf_tranche2.fit(X_train, y_train)\n",
    "\n",
    "y_pred_tranche = rf_tranche2.predict(X_test)\n",
    "print(\"=== RandomForest pour Tranche boule_2 ===\")\n",
    "print(\"Accuracy:\", accuracy_score(y_test, y_pred_tranche))\n",
    "print(classification_report(y_test, y_pred_tranche))\n",
    "\n",
    "models_tranche2 = {}\n",
    "for t in range(5):\n",
    "    df_tranche = df[df['boule_2_tranche'] == t].copy()\n",
    "    df_tranche['boule_class'] = df_tranche['boule_2']\n",
    "\n",
    "    X_t = df_tranche[feature_cols]\n",
    "    y_t = df_tranche['boule_class']\n",
    "\n",
    "    X_train_t, X_test_t, y_train_t, y_test_t = train_test_split(X_t, y_t, test_size=0.2, random_state=42, shuffle=False)\n",
    "\n",
    "    rf_t = RandomForestClassifier(n_estimators=400, max_depth=12, min_samples_split=5, random_state=42)\n",
    "    rf_t.fit(X_train_t, y_train_t)\n",
    "    models_tranche2[t] = rf_t\n",
    "\n",
    "def top4_chiffres_boule2(exemple):\n",
    "    proba_tranche = rf_tranche2.predict_proba(exemple)[0]\n",
    "    top_tranches = np.argsort(proba_tranche)[::-1]\n",
    "    prob_dict = {}\n",
    "\n",
    "    for t in top_tranches:\n",
    "        rf_t = models_tranche2[t]\n",
    "        proba_chiffres = rf_t.predict_proba(exemple)[0]\n",
    "        classes_chiffres = rf_t.classes_\n",
    "        for c, p in zip(classes_chiffres, proba_chiffres):\n",
    "            prob_dict[int(c)] = p * proba_tranche[t]\n",
    "\n",
    "    top4 = sorted(prob_dict, key=prob_dict.get, reverse=True)[:4]\n",
    "    return top4\n",
    "\n",
    "\n",
    "results = []\n",
    "for i in range(len(X_test)):\n",
    "    exemple = X_test.iloc[i:i+1]\n",
    "    top4 = top4_chiffres_boule2(exemple)\n",
    "    results.append({\n",
    "        'date_de_tirage': df.iloc[X_test.index[i]]['date_de_tirage'],\n",
    "        'boule_2_reel': df.iloc[X_test.index[i]]['boule_2'],\n",
    "        'top4_predits': \", \".join(str(c) for c in top4)\n",
    "    })\n",
    "\n",
    "exemple = X_test.iloc[0:1]\n",
    "top4_boule2 = top4_chiffres_boule2(exemple)\n",
    "print(\"\\nTop 4 chiffres les plus probables pour le premier tirage :\", \", \".join(str(c) for c in top4_boule2))\n"
   ]
  },
  {
   "cell_type": "markdown",
   "id": "45d9e13a",
   "metadata": {},
   "source": [
    "### 3e boule :"
   ]
  },
  {
   "cell_type": "code",
   "execution_count": 63,
   "id": "ef3fa2cb",
   "metadata": {},
   "outputs": [
    {
     "name": "stderr",
     "output_type": "stream",
     "text": [
      "C:\\Users\\alecp\\AppData\\Local\\Temp\\ipykernel_15404\\4104920513.py:12: FutureWarning: Series.fillna with 'method' is deprecated and will raise in a future version. Use obj.ffill() or obj.bfill() instead.\n",
      "  df[f'boule_3_prev_{lag}'] = df['boule_3'].shift(lag).fillna(method='bfill')\n"
     ]
    },
    {
     "name": "stdout",
     "output_type": "stream",
     "text": [
      "=== RandomForest pour Tranche boule_3 ===\n",
      "Accuracy: 0.5689981096408318\n",
      "              precision    recall  f1-score   support\n",
      "\n",
      "           0       0.61      0.73      0.66       110\n",
      "           1       0.35      0.30      0.32        89\n",
      "           2       0.53      0.36      0.43       116\n",
      "           3       0.57      0.60      0.59       121\n",
      "           4       0.70      0.85      0.77        93\n",
      "\n",
      "    accuracy                           0.57       529\n",
      "   macro avg       0.55      0.57      0.55       529\n",
      "weighted avg       0.55      0.57      0.56       529\n",
      "\n",
      "\n",
      "Top 4 chiffres les plus probables pour le premier tirage : 48, 46, 47, 44\n"
     ]
    }
   ],
   "source": [
    "import pandas as pd\n",
    "import numpy as np\n",
    "from sklearn.model_selection import train_test_split\n",
    "from sklearn.ensemble import RandomForestClassifier\n",
    "from sklearn.metrics import accuracy_score, classification_report\n",
    "\n",
    "df = df.sort_values('date_de_tirage')\n",
    "for lag in range(1,6):\n",
    "    df[f'boule_3_prev_{lag}'] = df['boule_3'].shift(lag).fillna(method='bfill')\n",
    "\n",
    "df['boule_3_prev_mean5'] = df[[f'boule_3_prev_{i}' for i in range(1,6)]].mean(axis=1)\n",
    "df['boule_3_prev_std5'] = df[[f'boule_3_prev_{i}' for i in range(1,6)]].std(axis=1)\n",
    "\n",
    "\n",
    "df['boule_3_tranche'] = df['boule_3'].apply(lambda n: (n-1)//10)\n",
    "\n",
    "\n",
    "boules_autres_3 = ['boule_1','boule_2','boule_4','boule_5','numero_chance']\n",
    "feature_cols_3 = ['annee','mois','jour','weekday'] + \\\n",
    "                 boules_autres_3 + \\\n",
    "                 ['boules_autres_sum','boules_autres_mean','boules_autres_max','boules_autres_min'] + \\\n",
    "                 [f'boule_3_prev_{i}' for i in range(1,6)] + \\\n",
    "                 ['boule_3_prev_mean5','boule_3_prev_std5']\n",
    "\n",
    "X_3 = df[feature_cols_3]\n",
    "y_3 = df['boule_3_tranche']\n",
    "\n",
    "\n",
    "X_train_3, X_test_3, y_train_3, y_test_3 = train_test_split(X_3, y_3, test_size=0.2, random_state=42, shuffle=False)\n",
    "\n",
    "\n",
    "rf_tranche3 = RandomForestClassifier(n_estimators=400, max_depth=12, min_samples_split=5, random_state=42)\n",
    "rf_tranche3.fit(X_train_3, y_train_3)\n",
    "\n",
    "y_pred_tranche_3 = rf_tranche3.predict(X_test_3)\n",
    "print(\"=== RandomForest pour Tranche boule_3 ===\")\n",
    "print(\"Accuracy:\", accuracy_score(y_test_3, y_pred_tranche_3))\n",
    "print(classification_report(y_test_3, y_pred_tranche_3))\n",
    "\n",
    "\n",
    "models_tranche3 = {}\n",
    "for t in range(5):\n",
    "    df_tranche = df[df['boule_3_tranche'] == t].copy()\n",
    "    df_tranche['boule_class'] = df_tranche['boule_3']\n",
    "\n",
    "    X_t = df_tranche[feature_cols_3]\n",
    "    y_t = df_tranche['boule_class']\n",
    "\n",
    "    X_train_t, X_test_t, y_train_t, y_test_t = train_test_split(X_t, y_t, test_size=0.2, random_state=42, shuffle=False)\n",
    "\n",
    "    rf_t = RandomForestClassifier(n_estimators=400, max_depth=12, min_samples_split=5, random_state=42)\n",
    "    rf_t.fit(X_train_t, y_train_t)\n",
    "    models_tranche3[t] = rf_t\n",
    "\n",
    "\n",
    "def top4_chiffres_boule3(exemple):\n",
    "    proba_tranche = rf_tranche3.predict_proba(exemple)[0]\n",
    "    top_tranches = np.argsort(proba_tranche)[::-1]\n",
    "    prob_dict = {}\n",
    "\n",
    "    for t in top_tranches:\n",
    "        rf_t = models_tranche3[t]\n",
    "        proba_chiffres = rf_t.predict_proba(exemple)[0]\n",
    "        classes_chiffres = rf_t.classes_\n",
    "        for c, p in zip(classes_chiffres, proba_chiffres):\n",
    "            prob_dict[int(c)] = p * proba_tranche[t]\n",
    "\n",
    "    top4 = sorted(prob_dict, key=prob_dict.get, reverse=True)[:4]\n",
    "    return top4\n",
    "\n",
    "\n",
    "results_3 = []\n",
    "for i in range(len(X_test_3)):\n",
    "    exemple = X_test_3.iloc[i:i+1]\n",
    "    top4 = top4_chiffres_boule3(exemple)\n",
    "    results_3.append({\n",
    "        'date_de_tirage': df.iloc[X_test_3.index[i]]['date_de_tirage'],\n",
    "        'boule_3_reel': df.iloc[X_test_3.index[i]]['boule_3'],\n",
    "        'top4_predits': \", \".join(str(c) for c in top4)\n",
    "    })\n",
    "\n",
    "exemple = X_test_3.iloc[0:1]\n",
    "top4_boule3 = top4_chiffres_boule3(exemple)\n",
    "print(\"\\nTop 4 chiffres les plus probables pour le premier tirage :\", \", \".join(str(c) for c in top4_boule3))\n"
   ]
  },
  {
   "cell_type": "markdown",
   "id": "2b49fdfe",
   "metadata": {},
   "source": [
    "### 4e boule :"
   ]
  },
  {
   "cell_type": "code",
   "execution_count": 64,
   "id": "2412cef5",
   "metadata": {},
   "outputs": [
    {
     "name": "stderr",
     "output_type": "stream",
     "text": [
      "C:\\Users\\alecp\\AppData\\Local\\Temp\\ipykernel_15404\\789519711.py:12: FutureWarning: Series.fillna with 'method' is deprecated and will raise in a future version. Use obj.ffill() or obj.bfill() instead.\n",
      "  df[f'boule_4_prev_{lag}'] = df['boule_4'].shift(lag).fillna(method='bfill')\n"
     ]
    },
    {
     "name": "stdout",
     "output_type": "stream",
     "text": [
      "=== RandomForest pour Tranche boule_4 ===\n",
      "Accuracy: 0.5311909262759924\n",
      "              precision    recall  f1-score   support\n",
      "\n",
      "           0       0.51      0.59      0.55        97\n",
      "           1       0.42      0.30      0.35       115\n",
      "           2       0.49      0.40      0.44       114\n",
      "           3       0.50      0.57      0.53       103\n",
      "           4       0.68      0.85      0.76       100\n",
      "\n",
      "    accuracy                           0.53       529\n",
      "   macro avg       0.52      0.54      0.53       529\n",
      "weighted avg       0.52      0.53      0.52       529\n",
      "\n",
      "\n",
      "Top 4 chiffres les plus probables pour le premier tirage (boule_4) : 12, 9, 7, 48\n"
     ]
    }
   ],
   "source": [
    "import pandas as pd\n",
    "import numpy as np\n",
    "from sklearn.model_selection import train_test_split\n",
    "from sklearn.ensemble import RandomForestClassifier\n",
    "from sklearn.metrics import accuracy_score, classification_report\n",
    "\n",
    "df = df.sort_values('date_de_tirage')\n",
    "for lag in range(1,6):\n",
    "    df[f'boule_4_prev_{lag}'] = df['boule_4'].shift(lag).fillna(method='bfill')\n",
    "\n",
    "df['boule_4_prev_mean5'] = df[[f'boule_4_prev_{i}' for i in range(1,6)]].mean(axis=1)\n",
    "df['boule_4_prev_std5'] = df[[f'boule_4_prev_{i}' for i in range(1,6)]].std(axis=1)\n",
    "\n",
    "\n",
    "df['boule_4_tranche'] = df['boule_4'].apply(lambda n: (n-1)//10)\n",
    "\n",
    "\n",
    "boules_autres_4 = ['boule_1','boule_2','boule_3','boule_5','numero_chance']\n",
    "feature_cols_4 = ['annee','mois','jour','weekday'] + \\\n",
    "                 boules_autres_4 + \\\n",
    "                 ['boules_autres_sum','boules_autres_mean','boules_autres_max','boules_autres_min'] + \\\n",
    "                 [f'boule_4_prev_{i}' for i in range(1,6)] + \\\n",
    "                 ['boule_4_prev_mean5','boule_4_prev_std5']\n",
    "\n",
    "X_4 = df[feature_cols_4]\n",
    "y_4 = df['boule_4_tranche']\n",
    "\n",
    "\n",
    "X_train_4, X_test_4, y_train_4, y_test_4 = train_test_split(X_4, y_4, test_size=0.2, random_state=42, shuffle=False)\n",
    "\n",
    "\n",
    "rf_tranche4 = RandomForestClassifier(n_estimators=400, max_depth=12, min_samples_split=5, random_state=42)\n",
    "rf_tranche4.fit(X_train_4, y_train_4)\n",
    "\n",
    "y_pred_tranche_4 = rf_tranche4.predict(X_test_4)\n",
    "print(\"=== RandomForest pour Tranche boule_4 ===\")\n",
    "print(\"Accuracy:\", accuracy_score(y_test_4, y_pred_tranche_4))\n",
    "print(classification_report(y_test_4, y_pred_tranche_4))\n",
    "\n",
    "\n",
    "models_tranche4 = {}\n",
    "for t in range(5):\n",
    "    df_tranche = df[df['boule_4_tranche'] == t].copy()\n",
    "    df_tranche['boule_class'] = df_tranche['boule_4']\n",
    "\n",
    "    X_t = df_tranche[feature_cols_4]\n",
    "    y_t = df_tranche['boule_class']\n",
    "\n",
    "    X_train_t, X_test_t, y_train_t, y_test_t = train_test_split(X_t, y_t, test_size=0.2, random_state=42, shuffle=False)\n",
    "\n",
    "    rf_t = RandomForestClassifier(n_estimators=400, max_depth=12, min_samples_split=5, random_state=42)\n",
    "    rf_t.fit(X_train_t, y_train_t)\n",
    "    models_tranche4[t] = rf_t\n",
    "\n",
    "def top4_chiffres_boule4(exemple):\n",
    "    proba_tranche = rf_tranche4.predict_proba(exemple)[0]\n",
    "    top_tranches = np.argsort(proba_tranche)[::-1]\n",
    "    prob_dict = {}\n",
    "\n",
    "    for t in top_tranches:\n",
    "        rf_t = models_tranche4[t]\n",
    "        proba_chiffres = rf_t.predict_proba(exemple)[0]\n",
    "        classes_chiffres = rf_t.classes_\n",
    "        for c, p in zip(classes_chiffres, proba_chiffres):\n",
    "            prob_dict[int(c)] = p * proba_tranche[t]\n",
    "\n",
    "    top4 = sorted(prob_dict, key=prob_dict.get, reverse=True)[:4]\n",
    "    return top4\n",
    "\n",
    "results_4 = []\n",
    "for i in range(len(X_test_4)):\n",
    "    exemple = X_test_4.iloc[i:i+1]\n",
    "    top4 = top4_chiffres_boule4(exemple)\n",
    "    results_4.append({\n",
    "        'date_de_tirage': df.iloc[X_test_4.index[i]]['date_de_tirage'],\n",
    "        'boule_4_reel': df.iloc[X_test_4.index[i]]['boule_4'],\n",
    "        'top4_predits': \", \".join(str(c) for c in top4)\n",
    "    })\n",
    "\n",
    "exemple = X_test_4.iloc[0:1]\n",
    "top4_boule4 = top4_chiffres_boule4(exemple)\n",
    "print(\"\\nTop 4 chiffres les plus probables pour le premier tirage (boule_4) :\", \", \".join(str(c) for c in top4_boule4))\n"
   ]
  },
  {
   "cell_type": "markdown",
   "id": "91bc7f44",
   "metadata": {},
   "source": [
    "### 5e boule :"
   ]
  },
  {
   "cell_type": "code",
   "execution_count": 65,
   "id": "e41b31f4",
   "metadata": {},
   "outputs": [
    {
     "name": "stderr",
     "output_type": "stream",
     "text": [
      "C:\\Users\\alecp\\AppData\\Local\\Temp\\ipykernel_15404\\4035986811.py:12: FutureWarning: Series.fillna with 'method' is deprecated and will raise in a future version. Use obj.ffill() or obj.bfill() instead.\n",
      "  df[f'boule_5_prev_{lag}'] = df['boule_5'].shift(lag).fillna(method='bfill')\n"
     ]
    },
    {
     "name": "stdout",
     "output_type": "stream",
     "text": [
      "=== RandomForest pour Tranche boule_5 ===\n",
      "Accuracy: 0.555765595463138\n",
      "              precision    recall  f1-score   support\n",
      "\n",
      "           0       0.57      0.77      0.66       104\n",
      "           1       0.38      0.21      0.27       112\n",
      "           2       0.47      0.35      0.40       107\n",
      "           3       0.57      0.62      0.60       113\n",
      "           4       0.66      0.90      0.76        93\n",
      "\n",
      "    accuracy                           0.56       529\n",
      "   macro avg       0.53      0.57      0.54       529\n",
      "weighted avg       0.53      0.56      0.53       529\n",
      "\n",
      "\n",
      "Top 4 chiffres les plus probables pour le premier tirage (boule_5) : 38, 15, 16, 47\n"
     ]
    }
   ],
   "source": [
    "import pandas as pd\n",
    "import numpy as np\n",
    "from sklearn.model_selection import train_test_split\n",
    "from sklearn.ensemble import RandomForestClassifier\n",
    "from sklearn.metrics import accuracy_score, classification_report\n",
    "\n",
    "df = df.sort_values('date_de_tirage')\n",
    "for lag in range(1,6):\n",
    "    df[f'boule_5_prev_{lag}'] = df['boule_5'].shift(lag).fillna(method='bfill')\n",
    "\n",
    "df['boule_5_prev_mean5'] = df[[f'boule_5_prev_{i}' for i in range(1,6)]].mean(axis=1)\n",
    "df['boule_5_prev_std5'] = df[[f'boule_5_prev_{i}' for i in range(1,6)]].std(axis=1)\n",
    "\n",
    "\n",
    "df['boule_5_tranche'] = df['boule_5'].apply(lambda n: (n-1)//10)\n",
    "\n",
    "\n",
    "boules_autres_5 = ['boule_1','boule_2','boule_3','boule_4','numero_chance']\n",
    "feature_cols_5 = ['annee','mois','jour','weekday'] + \\\n",
    "                 boules_autres_5 + \\\n",
    "                 ['boules_autres_sum','boules_autres_mean','boules_autres_max','boules_autres_min'] + \\\n",
    "                 [f'boule_5_prev_{i}' for i in range(1,6)] + \\\n",
    "                 ['boule_5_prev_mean5','boule_5_prev_std5']\n",
    "\n",
    "X_5 = df[feature_cols_5]\n",
    "y_5 = df['boule_5_tranche']\n",
    "\n",
    "\n",
    "X_train_5, X_test_5, y_train_5, y_test_5 = train_test_split(X_5, y_5, test_size=0.2, random_state=42, shuffle=False)\n",
    "\n",
    "\n",
    "rf_tranche5 = RandomForestClassifier(n_estimators=400, max_depth=12, min_samples_split=5, random_state=42)\n",
    "rf_tranche5.fit(X_train_5, y_train_5)\n",
    "\n",
    "y_pred_tranche_5 = rf_tranche5.predict(X_test_5)\n",
    "print(\"=== RandomForest pour Tranche boule_5 ===\")\n",
    "print(\"Accuracy:\", accuracy_score(y_test_5, y_pred_tranche_5))\n",
    "print(classification_report(y_test_5, y_pred_tranche_5))\n",
    "\n",
    "models_tranche5 = {}\n",
    "for t in range(5):\n",
    "    df_tranche = df[df['boule_5_tranche'] == t].copy()\n",
    "    df_tranche['boule_class'] = df_tranche['boule_5']\n",
    "\n",
    "    X_t = df_tranche[feature_cols_5]\n",
    "    y_t = df_tranche['boule_class']\n",
    "\n",
    "    X_train_t, X_test_t, y_train_t, y_test_t = train_test_split(X_t, y_t, test_size=0.2, random_state=42, shuffle=False)\n",
    "\n",
    "    rf_t = RandomForestClassifier(n_estimators=400, max_depth=12, min_samples_split=5, random_state=42)\n",
    "    rf_t.fit(X_train_t, y_train_t)\n",
    "    models_tranche5[t] = rf_t\n",
    "\n",
    "def top4_chiffres_boule5(exemple):\n",
    "    proba_tranche = rf_tranche5.predict_proba(exemple)[0]\n",
    "    top_tranches = np.argsort(proba_tranche)[::-1]\n",
    "    prob_dict = {}\n",
    "\n",
    "    for t in top_tranches:\n",
    "        rf_t = models_tranche5[t]\n",
    "        proba_chiffres = rf_t.predict_proba(exemple)[0]\n",
    "        classes_chiffres = rf_t.classes_\n",
    "        for c, p in zip(classes_chiffres, proba_chiffres):\n",
    "            prob_dict[int(c)] = p * proba_tranche[t]\n",
    "\n",
    "    top4 = sorted(prob_dict, key=prob_dict.get, reverse=True)[:4]\n",
    "    return top4\n",
    "\n",
    "results_5 = []\n",
    "for i in range(len(X_test_5)):\n",
    "    exemple = X_test_5.iloc[i:i+1]\n",
    "    top4 = top4_chiffres_boule5(exemple)\n",
    "    results_5.append({\n",
    "        'date_de_tirage': df.iloc[X_test_5.index[i]]['date_de_tirage'],\n",
    "        'boule_5_reel': df.iloc[X_test_5.index[i]]['boule_5'],\n",
    "        'top4_predits': \", \".join(str(c) for c in top4)\n",
    "    })\n",
    "\n",
    "exemple = X_test_5.iloc[0:1]\n",
    "top4_boule5 = top4_chiffres_boule5(exemple)\n",
    "print(\"\\nTop 4 chiffres les plus probables pour le premier tirage (boule_5) :\", \", \".join(str(c) for c in top4_boule5))\n"
   ]
  },
  {
   "cell_type": "markdown",
   "id": "e43cc80a",
   "metadata": {},
   "source": [
    "### Création de toute les possibilité"
   ]
  },
  {
   "cell_type": "code",
   "execution_count": 66,
   "id": "236d1d67",
   "metadata": {},
   "outputs": [
    {
     "name": "stdout",
     "output_type": "stream",
     "text": [
      "Nombre de combinaisons valides : 832\n",
      "     boule_1  boule_2  boule_3  boule_4  boule_5\n",
      "0          6       20       48       12       38\n",
      "1          6       20       48       12       15\n",
      "2          6       20       48       12       16\n",
      "3          6       20       48       12       47\n",
      "4          6       20       48        9       38\n",
      "..       ...      ...      ...      ...      ...\n",
      "827       40       30       44        7       47\n",
      "828       40       30       44       48       38\n",
      "829       40       30       44       48       15\n",
      "830       40       30       44       48       16\n",
      "831       40       30       44       48       47\n",
      "\n",
      "[832 rows x 5 columns]\n"
     ]
    }
   ],
   "source": [
    "import itertools\n",
    "import pandas as pd\n",
    "\n",
    "all_combos = list(itertools.product(top4_boule1, top4_boule2, top4_boule3, top4_boule4, top4_boule5))\n",
    "\n",
    "valid_combos = [combo for combo in all_combos if len(set(combo)) == 5]\n",
    "\n",
    "df_combos = pd.DataFrame(valid_combos, columns=['boule_1','boule_2','boule_3','boule_4','boule_5'])\n",
    "\n",
    "print(f\"Nombre de combinaisons valides : {len(df_combos)}\")\n",
    "print(df_combos)\n"
   ]
  }
 ],
 "metadata": {
  "kernelspec": {
   "display_name": "Python 3",
   "language": "python",
   "name": "python3"
  },
  "language_info": {
   "codemirror_mode": {
    "name": "ipython",
    "version": 3
   },
   "file_extension": ".py",
   "mimetype": "text/x-python",
   "name": "python",
   "nbconvert_exporter": "python",
   "pygments_lexer": "ipython3",
   "version": "3.12.4"
  }
 },
 "nbformat": 4,
 "nbformat_minor": 5
}
